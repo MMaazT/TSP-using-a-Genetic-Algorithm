{
 "cells": [
  {
   "cell_type": "code",
   "execution_count": 13,
   "metadata": {},
   "outputs": [],
   "source": [
    "from itertools import permutations\n",
    "import random as rand\n",
    "import matplotlib.pyplot as plt\n",
    "\n",
    "cityDict ={'A': [('B', 8), ('C',10), ('D', 3), ('E', 4), ('F',6)],\n",
    "        'B': [('A', 8), ('C',9), ('D', 5), ('E', 5), ('F',12)],\n",
    "        'C': [('A', 10), ('B',9), ('D', 7), ('E', 6), ('F',2)],\n",
    "        'D': [('A', 3), ('B',5), ('C', 7), ('E', 8), ('F',11)],\n",
    "        'E': [('A', 4), ('B',8), ('C', 6), ('D', 8), ('F',8)],\n",
    "        'F': [('A', 6), ('B',12), ('C', 2), ('D', 11), ('E',8)]}\n"
   ]
  },
  {
   "cell_type": "code",
   "execution_count": 14,
   "metadata": {},
   "outputs": [],
   "source": [
    "def fitnessFunction(candidates):\n",
    "    tourCost= []\n",
    "    for individual in candidates:\n",
    "        sumd=0;\n",
    "        for i in range(len(individual)-1):\n",
    "            #search i, i+1 in dcit\n",
    "            for j in range(len(cityDict[individual[i]])):\n",
    "                if(cityDict[individual[i]][j][0]==individual[i+1]):\n",
    "                    sumd+=cityDict[individual[i]][j][1]\n",
    "        \n",
    "        tourCost.append((list(individual),sumd))\n",
    "    #print(scores)\n",
    "    return tourCost"
   ]
  },
  {
   "cell_type": "code",
   "execution_count": 15,
   "metadata": {},
   "outputs": [],
   "source": [
    "def parentSelection(tourCost):\n",
    "    aux= tourCost[:]\n",
    "    parents= []\n",
    "    p1= rand.sample(aux, 2)\n",
    "    if(p1[0][1]> p1[1][1]):\n",
    "        parents.append(p1[0])\n",
    "        aux.remove(p1[0])\n",
    "    else:\n",
    "        parents.append(p1[1])\n",
    "        aux.remove(p1[1])\n",
    "    \n",
    "    p2=rand.sample(aux,2)\n",
    "    if(p2[0][1]> p2[1][1]):\n",
    "        parents.append(p2[0])\n",
    "        aux.remove(p2[0])\n",
    "    else:\n",
    "        parents.append(p2[1])\n",
    "        aux.remove(p2[1])\n",
    "    p3=rand.sample(aux,2)\n",
    "    if(p3[0][1]> p3[1][1]):\n",
    "        parents.append(p3[0])\n",
    "        aux.remove(p3[0])\n",
    "    else:\n",
    "        parents.append(p3[1])\n",
    "        aux.remove(p3[1])\n",
    "    p4=rand.sample(aux,2)\n",
    "    if(p4[0][1]> p4[1][1]):\n",
    "        parents.append(p4[0])\n",
    "        aux.remove(p4[0])\n",
    "    else:\n",
    "        parents.append(p4[1])\n",
    "        aux.remove(p4[1]) \n",
    "    return parents"
   ]
  },
  {
   "cell_type": "code",
   "execution_count": 16,
   "metadata": {},
   "outputs": [],
   "source": [
    "def crossOver(parents):\n",
    "\n",
    "        \n",
    "    sind12= rand.randint(0,3)\n",
    "    eind12=rand.randint(sind12,4)\n",
    "    if(sind12==eind12):\n",
    "        eind12+=1\n",
    "    sind34= rand.randint(0,3)\n",
    "    eind34=rand.randint(sind34,4)\n",
    "    if(sind34==eind34):\n",
    "        eind34++1\n",
    "\n",
    "    offs1=[0,0,0,0,0]\n",
    "    offs2=[0,0,0,0,0]\n",
    "    offs3=[0,0,0,0,0]\n",
    "    offs4=[0,0,0,0,0]\n",
    "    \n",
    "    offs1[sind12:eind12+1]=parents[0][0][sind12:eind12+1]\n",
    "    offs2[sind12:eind12+1]=parents[1][0][sind12:eind12+1]\n",
    "    offs3[sind34:eind34+1]=parents[2][0][sind34:eind34+1]\n",
    "    offs4[sind34:eind34+1]=parents[3][0][sind34:eind34+1]\n",
    "       \n",
    "    auxparent2=parents[1][0][eind12:]\n",
    "    auxparent2= auxparent2 + parents[1][0][:eind12]\n",
    "    auxind=eind12\n",
    "    for j in range(len(auxparent2)):\n",
    "        if(auxparent2[j] not in offs1):\n",
    "            auxind+=1\n",
    "            offs1[auxind%5]=auxparent2[j]\n",
    "    \n",
    "    auxparent1=parents[0][0][eind12:]\n",
    "    auxparent1= auxparent1 + parents[0][0][:eind12]\n",
    "   \n",
    "    auxind=eind12\n",
    "    for j in range(len(auxparent1)):\n",
    "        if(auxparent1[j] not in offs2):\n",
    "            auxind+=1\n",
    "            offs2[auxind%5]=auxparent1[j]\n",
    "    \n",
    "    auxparent4=parents[3][0][eind34:]\n",
    "    auxparent4= auxparent4 + parents[3][0][:eind34]\n",
    "    \n",
    "    auxind=eind34\n",
    "    for j in range(len(auxparent4)):\n",
    "        if(auxparent4[j] not in offs3):\n",
    "            auxind+=1\n",
    "            offs3[auxind%5]=auxparent4[j]\n",
    "    \n",
    "    auxparent3=parents[2][0][eind34:]\n",
    "    auxparent3= auxparent3 + parents[2][0][:eind34]\n",
    "   \n",
    "    auxind=eind34\n",
    "    for j in range(len(auxparent3)):\n",
    "        if(auxparent3[j] not in offs4):\n",
    "            auxind+=1\n",
    "            offs4[auxind%5]=auxparent3[j]\n",
    "    crossOffsprings= [offs1,offs2, offs3, offs4]\n",
    "    return crossOffsprings"
   ]
  },
  {
   "cell_type": "code",
   "execution_count": 17,
   "metadata": {},
   "outputs": [],
   "source": [
    "def insertMutations(crossOffsprings):\n",
    "    probability= round(rand.random(),2)\n",
    "    if(probability<=0.20):\n",
    "        for mut in crossOffsprings:\n",
    "            m1=rand.randint(0,2)\n",
    "            m2=rand.randint(3,4)\n",
    "            mut.insert(m1+1,mut[m2])\n",
    "            mut.remove(mut[m2+1])\n",
    "            \n",
    "    else:\n",
    "        return crossOffsprings\n",
    "    return crossOffsprings\n"
   ]
  },
  {
   "cell_type": "code",
   "execution_count": 18,
   "metadata": {},
   "outputs": [],
   "source": [
    "def survivalSelection(mutCross, parents):\n",
    "    costOffspring=fitnessFunction(mutCross)\n",
    "    parents=parents+costOffspring\n",
    "    finalParents= addC(parents)\n",
    "    finalParents=sorted(finalParents, key= lambda x: x[1])\n",
    "    finalParents=finalParents[:10]\n",
    "    return finalParents"
   ]
  },
  {
   "cell_type": "code",
   "execution_count": 19,
   "metadata": {},
   "outputs": [],
   "source": [
    "def addC(parents):\n",
    "    c=[]\n",
    "    for i in parents:\n",
    "       i[0].insert(0, 'C')\n",
    "    for i in parents:\n",
    "        c.append(i[0])\n",
    "    finalParents= fitnessFunction(c)\n",
    "    return finalParents"
   ]
  },
  {
   "cell_type": "code",
   "execution_count": 20,
   "metadata": {},
   "outputs": [],
   "source": [
    "def removeC(parents):\n",
    "    c=[]\n",
    "    for i in parents:\n",
    "        i[0].remove('C') \n",
    "    for i in parents:\n",
    "        c.append(i[0]) \n",
    "    return c"
   ]
  },
  {
   "cell_type": "code",
   "execution_count": 21,
   "metadata": {},
   "outputs": [],
   "source": [
    "def bestSoFar(finalParents):\n",
    "    bestFitness=finalParents[0][1]\n",
    "    return bestFitness"
   ]
  },
  {
   "cell_type": "code",
   "execution_count": 22,
   "metadata": {},
   "outputs": [],
   "source": [
    "def averageBest(finalParents):\n",
    "    sumd=0\n",
    "    for i in finalParents:\n",
    "        sumd+= i[1]\n",
    "    return sumd/6"
   ]
  },
  {
   "cell_type": "code",
   "execution_count": 25,
   "metadata": {},
   "outputs": [],
   "source": [
    "def main():\n",
    "    permut=rand.sample(list(permutations('ABDEF')), 10)\n",
    "    best=[]\n",
    "    average=[]\n",
    "    for i in range(100):\n",
    "        initialTourCost= fitnessFunction(permut)\n",
    "        parents=parentSelection(initialTourCost)\n",
    "        crossed= crossOver(parents)\n",
    "        mut=insertMutations(crossed)\n",
    "        tenBest= survivalSelection(mut, initialTourCost)\n",
    "        bo=(bestSoFar(tenBest))\n",
    "        a=(averageBest(tenBest))\n",
    "        permut=removeC(tenBest)\n",
    "        best.append(bo)\n",
    "        average.append(round(a,5))\n",
    "        print(best)\n",
    "    print(average)\n",
    "    #plt.plot(best)\n",
    "    plt.plot(average)"
   ]
  },
  {
   "cell_type": "code",
   "execution_count": null,
   "metadata": {},
   "outputs": [],
   "source": []
  }
 ],
 "metadata": {
  "kernelspec": {
   "display_name": "Python 3",
   "language": "python",
   "name": "python3"
  },
  "language_info": {
   "codemirror_mode": {
    "name": "ipython",
    "version": 3
   },
   "file_extension": ".py",
   "mimetype": "text/x-python",
   "name": "python",
   "nbconvert_exporter": "python",
   "pygments_lexer": "ipython3",
   "version": "3.7.0"
  }
 },
 "nbformat": 4,
 "nbformat_minor": 2
}
