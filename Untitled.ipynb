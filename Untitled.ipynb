{
 "cells": [
  {
   "cell_type": "code",
   "execution_count": 2,
   "metadata": {},
   "outputs": [],
   "source": []
  },
  {
   "cell_type": "code",
   "execution_count": 3,
   "metadata": {},
   "outputs": [],
   "source": [
    "def fitnessFunction(candidates):\n",
    "    tourCost= []\n",
    "    for individual in candidates:\n",
    "        sumd=0;\n",
    "        for i in range(len(individual)-1):\n",
    "            #search i, i+1 in dcit\n",
    "            for j in range(len(cityDict[individual[i]])):\n",
    "                if(cityDict[individual[i]][j][0]==individual[i+1]):\n",
    "                    sumd+=cityDict[individual[i]][j][1]\n",
    "        \n",
    "        tourCost.append((list(individual),sumd))\n",
    "    #print(scores)\n",
    "    return tourCost"
   ]
  },
  {
   "cell_type": "code",
   "execution_count": 4,
   "metadata": {},
   "outputs": [],
   "source": [
    "def parentSelection(tourCost):\n",
    "    aux= tourCost[:]\n",
    "    parents= []\n",
    "    p1= rand.sample(aux, 2)\n",
    "    if(p1[0][1]> p1[1][1]):\n",
    "        parents.append(p1[0])\n",
    "        aux.remove(p1[0])\n",
    "    else:\n",
    "        parents.append(p1[1])\n",
    "        aux.remove(p1[1])\n",
    "    \n",
    "    p2=rand.sample(aux,2)\n",
    "    if(p2[0][1]> p2[1][1]):\n",
    "        parents.append(p2[0])\n",
    "        aux.remove(p2[0])\n",
    "    else:\n",
    "        parents.append(p2[1])\n",
    "        aux.remove(p2[1])\n",
    "    p3=rand.sample(aux,2)\n",
    "    if(p3[0][1]> p3[1][1]):\n",
    "        parents.append(p3[0])\n",
    "        aux.remove(p3[0])\n",
    "    else:\n",
    "        parents.append(p3[1])\n",
    "        aux.remove(p3[1])\n",
    "    p4=rand.sample(aux,2)\n",
    "    if(p4[0][1]> p4[1][1]):\n",
    "        parents.append(p4[0])\n",
    "        aux.remove(p4[0])\n",
    "    else:\n",
    "        parents.append(p4[1])\n",
    "        aux.remove(p4[1]) \n",
    "    return parents"
   ]
  },
  {
   "cell_type": "code",
   "execution_count": null,
   "metadata": {},
   "outputs": [],
   "source": []
  }
 ],
 "metadata": {
  "kernelspec": {
   "display_name": "Python 3",
   "language": "python",
   "name": "python3"
  },
  "language_info": {
   "codemirror_mode": {
    "name": "ipython",
    "version": 3
   },
   "file_extension": ".py",
   "mimetype": "text/x-python",
   "name": "python",
   "nbconvert_exporter": "python",
   "pygments_lexer": "ipython3",
   "version": "3.7.0"
  }
 },
 "nbformat": 4,
 "nbformat_minor": 2
}
